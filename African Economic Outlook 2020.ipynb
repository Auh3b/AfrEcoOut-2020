{
 "cells": [
  {
   "cell_type": "code",
   "execution_count": 33,
   "metadata": {},
   "outputs": [],
   "source": [
    "import plotly.offline as pyo\n",
    "from plotly.graph_objs import *\n",
    "\n",
    "import pandas as pd"
   ]
  },
  {
   "cell_type": "markdown",
   "metadata": {},
   "source": [
    "# Creating a DataFrame from African Economic Outlook 2020"
   ]
  },
  {
   "cell_type": "code",
   "execution_count": 34,
   "metadata": {},
   "outputs": [
    {
     "data": {
      "text/html": [
       "<div>\n",
       "<style scoped>\n",
       "    .dataframe tbody tr th:only-of-type {\n",
       "        vertical-align: middle;\n",
       "    }\n",
       "\n",
       "    .dataframe tbody tr th {\n",
       "        vertical-align: top;\n",
       "    }\n",
       "\n",
       "    .dataframe thead th {\n",
       "        text-align: right;\n",
       "    }\n",
       "</style>\n",
       "<table border=\"1\" class=\"dataframe\">\n",
       "  <thead>\n",
       "    <tr style=\"text-align: right;\">\n",
       "      <th></th>\n",
       "      <th>country</th>\n",
       "      <th>region</th>\n",
       "      <th>indicatorName</th>\n",
       "      <th>indicator</th>\n",
       "      <th>date</th>\n",
       "      <th>value</th>\n",
       "    </tr>\n",
       "  </thead>\n",
       "  <tbody>\n",
       "    <tr>\n",
       "      <th>0</th>\n",
       "      <td>Niger</td>\n",
       "      <td>NER</td>\n",
       "      <td>Central government, total revenue and grants  ...</td>\n",
       "      <td>GC.REV.TOTL.GD.CD</td>\n",
       "      <td>1980-01-01</td>\n",
       "      <td>366.33</td>\n",
       "    </tr>\n",
       "    <tr>\n",
       "      <th>1</th>\n",
       "      <td>Niger</td>\n",
       "      <td>NER</td>\n",
       "      <td>Central government, total revenue and grants  ...</td>\n",
       "      <td>GC.REV.TOTL.GD.CD</td>\n",
       "      <td>1981-01-01</td>\n",
       "      <td>276.74</td>\n",
       "    </tr>\n",
       "    <tr>\n",
       "      <th>2</th>\n",
       "      <td>Niger</td>\n",
       "      <td>NER</td>\n",
       "      <td>Central government, total revenue and grants  ...</td>\n",
       "      <td>GC.REV.TOTL.GD.CD</td>\n",
       "      <td>1982-01-01</td>\n",
       "      <td>304.31</td>\n",
       "    </tr>\n",
       "    <tr>\n",
       "      <th>3</th>\n",
       "      <td>Niger</td>\n",
       "      <td>NER</td>\n",
       "      <td>Central government, total revenue and grants  ...</td>\n",
       "      <td>GC.REV.TOTL.GD.CD</td>\n",
       "      <td>1983-01-01</td>\n",
       "      <td>311.49</td>\n",
       "    </tr>\n",
       "    <tr>\n",
       "      <th>4</th>\n",
       "      <td>Niger</td>\n",
       "      <td>NER</td>\n",
       "      <td>Central government, total revenue and grants  ...</td>\n",
       "      <td>GC.REV.TOTL.GD.CD</td>\n",
       "      <td>1984-01-01</td>\n",
       "      <td>223.82</td>\n",
       "    </tr>\n",
       "    <tr>\n",
       "      <th>...</th>\n",
       "      <td>...</td>\n",
       "      <td>...</td>\n",
       "      <td>...</td>\n",
       "      <td>...</td>\n",
       "      <td>...</td>\n",
       "      <td>...</td>\n",
       "    </tr>\n",
       "    <tr>\n",
       "      <th>70650</th>\n",
       "      <td>South Sudan</td>\n",
       "      <td>SSD</td>\n",
       "      <td>Central government, total expenditure and net ...</td>\n",
       "      <td>GC.XPN.TOTL.GD.ZS</td>\n",
       "      <td>2017-01-01</td>\n",
       "      <td>41.68</td>\n",
       "    </tr>\n",
       "    <tr>\n",
       "      <th>70651</th>\n",
       "      <td>South Sudan</td>\n",
       "      <td>SSD</td>\n",
       "      <td>Central government, total expenditure and net ...</td>\n",
       "      <td>GC.XPN.TOTL.GD.ZS</td>\n",
       "      <td>2018-01-01</td>\n",
       "      <td>40.10</td>\n",
       "    </tr>\n",
       "    <tr>\n",
       "      <th>70652</th>\n",
       "      <td>South Sudan</td>\n",
       "      <td>SSD</td>\n",
       "      <td>Central government, total expenditure and net ...</td>\n",
       "      <td>GC.XPN.TOTL.GD.ZS</td>\n",
       "      <td>2019-01-01</td>\n",
       "      <td>33.74</td>\n",
       "    </tr>\n",
       "    <tr>\n",
       "      <th>70653</th>\n",
       "      <td>South Sudan</td>\n",
       "      <td>SSD</td>\n",
       "      <td>Central government, total expenditure and net ...</td>\n",
       "      <td>GC.XPN.TOTL.GD.ZS</td>\n",
       "      <td>2020-01-01</td>\n",
       "      <td>39.80</td>\n",
       "    </tr>\n",
       "    <tr>\n",
       "      <th>70654</th>\n",
       "      <td>South Sudan</td>\n",
       "      <td>SSD</td>\n",
       "      <td>Central government, total expenditure and net ...</td>\n",
       "      <td>GC.XPN.TOTL.GD.ZS</td>\n",
       "      <td>2021-01-01</td>\n",
       "      <td>41.50</td>\n",
       "    </tr>\n",
       "  </tbody>\n",
       "</table>\n",
       "<p>70655 rows × 6 columns</p>\n",
       "</div>"
      ],
      "text/plain": [
       "           country region                                      indicatorName  \\\n",
       "0            Niger    NER  Central government, total revenue and grants  ...   \n",
       "1            Niger    NER  Central government, total revenue and grants  ...   \n",
       "2            Niger    NER  Central government, total revenue and grants  ...   \n",
       "3            Niger    NER  Central government, total revenue and grants  ...   \n",
       "4            Niger    NER  Central government, total revenue and grants  ...   \n",
       "...            ...    ...                                                ...   \n",
       "70650  South Sudan    SSD  Central government, total expenditure and net ...   \n",
       "70651  South Sudan    SSD  Central government, total expenditure and net ...   \n",
       "70652  South Sudan    SSD  Central government, total expenditure and net ...   \n",
       "70653  South Sudan    SSD  Central government, total expenditure and net ...   \n",
       "70654  South Sudan    SSD  Central government, total expenditure and net ...   \n",
       "\n",
       "               indicator        date   value  \n",
       "0      GC.REV.TOTL.GD.CD  1980-01-01  366.33  \n",
       "1      GC.REV.TOTL.GD.CD  1981-01-01  276.74  \n",
       "2      GC.REV.TOTL.GD.CD  1982-01-01  304.31  \n",
       "3      GC.REV.TOTL.GD.CD  1983-01-01  311.49  \n",
       "4      GC.REV.TOTL.GD.CD  1984-01-01  223.82  \n",
       "...                  ...         ...     ...  \n",
       "70650  GC.XPN.TOTL.GD.ZS  2017-01-01   41.68  \n",
       "70651  GC.XPN.TOTL.GD.ZS  2018-01-01   40.10  \n",
       "70652  GC.XPN.TOTL.GD.ZS  2019-01-01   33.74  \n",
       "70653  GC.XPN.TOTL.GD.ZS  2020-01-01   39.80  \n",
       "70654  GC.XPN.TOTL.GD.ZS  2021-01-01   41.50  \n",
       "\n",
       "[70655 rows x 6 columns]"
      ]
     },
     "execution_count": 34,
     "metadata": {},
     "output_type": "execute_result"
    }
   ],
   "source": [
    "dataset = pd.read_csv('Data.csv', usecols = ['Country and RegionsName', 'Country and Regions','IndicatorsName','Indicators','Date','Value'])\n",
    "dataset.columns =  ['country', 'region', 'indicatorName','indicator','date', 'value']\n",
    "dataset"
   ]
  },
  {
   "cell_type": "code",
   "execution_count": 58,
   "metadata": {},
   "outputs": [
    {
     "data": {
      "text/plain": [
       "'Inflation, consumer prices (annual %)'"
      ]
     },
     "execution_count": 58,
     "metadata": {},
     "output_type": "execute_result"
    }
   ],
   "source": [
    "dataset.loc[dataset['indicator']==\"FP.CPI.TOTL.ZG\", 'indicatorName'].unique()[0]"
   ]
  },
  {
   "cell_type": "markdown",
   "metadata": {},
   "source": [
    "# Line chart function"
   ]
  },
  {
   "cell_type": "code",
   "execution_count": 64,
   "metadata": {},
   "outputs": [
    {
     "data": {
      "application/vnd.plotly.v1+json": {
       "config": {
        "plotlyServerURL": "https://plotly.com"
       },
       "data": [
        {
         "mode": "lines",
         "name": "Malawi",
         "type": "scatter",
         "x": [
          "1981-01-01",
          "1982-01-01",
          "1983-01-01",
          "1984-01-01",
          "1985-01-01",
          "1986-01-01",
          "1987-01-01",
          "1988-01-01",
          "1989-01-01",
          "1990-01-01",
          "1991-01-01",
          "1992-01-01",
          "1993-01-01",
          "1994-01-01",
          "1995-01-01",
          "1996-01-01",
          "1997-01-01",
          "1998-01-01",
          "1999-01-01",
          "2000-01-01",
          "2001-01-01",
          "2002-01-01",
          "2003-01-01",
          "2004-01-01",
          "2005-01-01",
          "2006-01-01",
          "2007-01-01",
          "2008-01-01",
          "2009-01-01",
          "2010-01-01",
          "2011-01-01",
          "2012-01-01",
          "2013-01-01",
          "2014-01-01",
          "2015-01-01",
          "2016-01-01",
          "2017-01-01",
          "2018-01-01",
          "2019-01-01",
          "2020-01-01",
          "2021-01-01"
         ],
         "y": [
          12.01,
          9.52,
          13.77,
          19.74,
          10.64,
          14.18,
          25.05,
          33.85,
          12.45,
          11.88,
          8.23,
          23.24,
          22.77,
          34.66,
          83.15,
          37.73,
          9.14,
          29.75,
          44.76,
          29.6,
          27.25,
          17.27,
          9.56,
          5.21,
          15.43,
          13.9,
          7.95,
          8.71,
          8.4,
          7.4,
          7.6,
          21.3,
          27.3,
          23.78,
          21.87,
          21.72,
          11.55,
          9.2,
          8.98,
          8.36,
          7.39
         ]
        },
        {
         "mode": "lines",
         "name": "Zambia",
         "type": "scatter",
         "x": [
          "1981-01-01",
          "1982-01-01",
          "1983-01-01",
          "1984-01-01",
          "1985-01-01",
          "1986-01-01",
          "1987-01-01",
          "1988-01-01",
          "1989-01-01",
          "1990-01-01",
          "1991-01-01",
          "1992-01-01",
          "1993-01-01",
          "1994-01-01",
          "1995-01-01",
          "1996-01-01",
          "1997-01-01",
          "1998-01-01",
          "1999-01-01",
          "2000-01-01",
          "2001-01-01",
          "2002-01-01",
          "2003-01-01",
          "2004-01-01",
          "2005-01-01",
          "2006-01-01",
          "2007-01-01",
          "2008-01-01",
          "2009-01-01",
          "2010-01-01",
          "2011-01-01",
          "2012-01-01",
          "2013-01-01",
          "2014-01-01",
          "2015-01-01",
          "2016-01-01",
          "2017-01-01",
          "2018-01-01",
          "2019-01-01",
          "2020-01-01",
          "2021-01-01"
         ],
         "y": [
          12.49,
          11.11,
          19.99,
          22.21,
          54.53,
          55.82,
          47.05,
          51,
          123.41,
          107.11,
          93.21,
          169.05,
          188.05,
          53.61,
          34.2,
          43.09,
          24.4,
          24.46,
          26.79,
          26.1,
          21.7,
          22.2,
          21.51,
          17.57,
          18.34,
          9.02,
          10.66,
          12.45,
          13.4,
          8.5,
          8.66,
          6.6,
          6.98,
          7.8,
          10.11,
          17.87,
          6.58,
          7.48,
          9.24,
          9.04,
          9.2
         ]
        },
        {
         "mode": "lines",
         "name": "Tanzania",
         "type": "scatter",
         "x": [
          "1981-01-01",
          "1982-01-01",
          "1983-01-01",
          "1984-01-01",
          "1985-01-01",
          "1986-01-01",
          "1987-01-01",
          "1988-01-01",
          "1989-01-01",
          "1990-01-01",
          "1991-01-01",
          "1992-01-01",
          "1993-01-01",
          "1994-01-01",
          "1995-01-01",
          "1996-01-01",
          "1997-01-01",
          "1998-01-01",
          "1999-01-01",
          "2000-01-01",
          "2001-01-01",
          "2002-01-01",
          "2003-01-01",
          "2004-01-01",
          "2005-01-01",
          "2006-01-01",
          "2007-01-01",
          "2008-01-01",
          "2009-01-01",
          "2010-01-01",
          "2011-01-01",
          "2012-01-01",
          "2013-01-01",
          "2014-01-01",
          "2015-01-01",
          "2016-01-01",
          "2017-01-01",
          "2018-01-01",
          "2019-01-01",
          "2020-01-01",
          "2021-01-01"
         ],
         "y": [
          25.65,
          28.93,
          27.06,
          36.15,
          33.28,
          32.43,
          29.95,
          31.19,
          25.85,
          33.95,
          28.7,
          21.85,
          25.28,
          33.09,
          28.38,
          20.98,
          16.1,
          12.9,
          7.7,
          6,
          5.1,
          4.3,
          5.3,
          3.58,
          5.03,
          7.25,
          7.03,
          10.28,
          12.14,
          8.25,
          12.69,
          16,
          7.87,
          6.13,
          5.59,
          5.17,
          5.32,
          3.6,
          3.31,
          3.29,
          3.39
         ]
        },
        {
         "mode": "lines",
         "name": "Mozambique",
         "type": "scatter",
         "x": [
          "1981-01-01",
          "1982-01-01",
          "1983-01-01",
          "1984-01-01",
          "1985-01-01",
          "1986-01-01",
          "1987-01-01",
          "1988-01-01",
          "1989-01-01",
          "1990-01-01",
          "1991-01-01",
          "1992-01-01",
          "1993-01-01",
          "1994-01-01",
          "1995-01-01",
          "1996-01-01",
          "1997-01-01",
          "1998-01-01",
          "1999-01-01",
          "2000-01-01",
          "2001-01-01",
          "2002-01-01",
          "2003-01-01",
          "2004-01-01",
          "2005-01-01",
          "2006-01-01",
          "2007-01-01",
          "2008-01-01",
          "2009-01-01",
          "2010-01-01",
          "2011-01-01",
          "2012-01-01",
          "2013-01-01",
          "2014-01-01",
          "2015-01-01",
          "2016-01-01",
          "2017-01-01",
          "2018-01-01",
          "2019-01-01",
          "2020-01-01",
          "2021-01-01"
         ],
         "y": [
          4.23,
          17.73,
          28.31,
          29.99,
          30.79,
          40.52,
          164.06,
          58.5,
          42.07,
          43.72,
          33.26,
          45.07,
          42.26,
          63.12,
          54.43,
          44.61,
          6.38,
          0.6,
          2.86,
          12.72,
          9.06,
          16.77,
          13.46,
          12.63,
          6.43,
          13.25,
          8.16,
          10.33,
          3.25,
          12.7,
          10.35,
          2.09,
          4.21,
          2.29,
          2.39,
          19.24,
          15.11,
          3.91,
          3.45,
          5.39,
          5.07
         ]
        },
        {
         "mode": "lines",
         "name": "Zimbabwe",
         "type": "scatter",
         "x": [
          "1981-01-01",
          "1982-01-01",
          "1983-01-01",
          "1984-01-01",
          "1985-01-01",
          "1986-01-01",
          "1987-01-01",
          "1988-01-01",
          "1989-01-01",
          "1990-01-01",
          "1991-01-01",
          "1992-01-01",
          "1993-01-01",
          "1994-01-01",
          "1995-01-01",
          "1996-01-01",
          "1997-01-01",
          "1998-01-01",
          "1999-01-01",
          "2000-01-01",
          "2001-01-01",
          "2002-01-01",
          "2003-01-01",
          "2004-01-01",
          "2005-01-01",
          "2006-01-01",
          "2007-01-01",
          "2008-01-01",
          "2009-01-01",
          "2010-01-01",
          "2011-01-01",
          "2012-01-01",
          "2013-01-01",
          "2014-01-01",
          "2015-01-01",
          "2016-01-01",
          "2017-01-01",
          "2018-01-01",
          "2019-01-01",
          "2020-01-01",
          "2021-01-01"
         ],
         "y": [
          13.15,
          10.63,
          23.12,
          20.15,
          8.49,
          14.33,
          12.47,
          7.42,
          12.88,
          18.24,
          23.34,
          42.06,
          27.59,
          22.26,
          22.59,
          21.51,
          18.8,
          31.33,
          57.75,
          55.87,
          -37.2,
          -34.44,
          -8.56,
          165.65,
          1.98,
          4.25,
          -4.1,
          7.31,
          6.22,
          3.03,
          3.47,
          3.72,
          1.63,
          -0.21,
          -2.41,
          -1.56,
          0.91,
          10.5,
          200.37,
          76.73,
          9.44
         ]
        }
       ],
       "layout": {
        "plot_bgcolor": "#fff",
        "template": {
         "data": {
          "bar": [
           {
            "error_x": {
             "color": "#2a3f5f"
            },
            "error_y": {
             "color": "#2a3f5f"
            },
            "marker": {
             "line": {
              "color": "#E5ECF6",
              "width": 0.5
             }
            },
            "type": "bar"
           }
          ],
          "barpolar": [
           {
            "marker": {
             "line": {
              "color": "#E5ECF6",
              "width": 0.5
             }
            },
            "type": "barpolar"
           }
          ],
          "carpet": [
           {
            "aaxis": {
             "endlinecolor": "#2a3f5f",
             "gridcolor": "white",
             "linecolor": "white",
             "minorgridcolor": "white",
             "startlinecolor": "#2a3f5f"
            },
            "baxis": {
             "endlinecolor": "#2a3f5f",
             "gridcolor": "white",
             "linecolor": "white",
             "minorgridcolor": "white",
             "startlinecolor": "#2a3f5f"
            },
            "type": "carpet"
           }
          ],
          "choropleth": [
           {
            "colorbar": {
             "outlinewidth": 0,
             "ticks": ""
            },
            "type": "choropleth"
           }
          ],
          "contour": [
           {
            "colorbar": {
             "outlinewidth": 0,
             "ticks": ""
            },
            "colorscale": [
             [
              0,
              "#0d0887"
             ],
             [
              0.1111111111111111,
              "#46039f"
             ],
             [
              0.2222222222222222,
              "#7201a8"
             ],
             [
              0.3333333333333333,
              "#9c179e"
             ],
             [
              0.4444444444444444,
              "#bd3786"
             ],
             [
              0.5555555555555556,
              "#d8576b"
             ],
             [
              0.6666666666666666,
              "#ed7953"
             ],
             [
              0.7777777777777778,
              "#fb9f3a"
             ],
             [
              0.8888888888888888,
              "#fdca26"
             ],
             [
              1,
              "#f0f921"
             ]
            ],
            "type": "contour"
           }
          ],
          "contourcarpet": [
           {
            "colorbar": {
             "outlinewidth": 0,
             "ticks": ""
            },
            "type": "contourcarpet"
           }
          ],
          "heatmap": [
           {
            "colorbar": {
             "outlinewidth": 0,
             "ticks": ""
            },
            "colorscale": [
             [
              0,
              "#0d0887"
             ],
             [
              0.1111111111111111,
              "#46039f"
             ],
             [
              0.2222222222222222,
              "#7201a8"
             ],
             [
              0.3333333333333333,
              "#9c179e"
             ],
             [
              0.4444444444444444,
              "#bd3786"
             ],
             [
              0.5555555555555556,
              "#d8576b"
             ],
             [
              0.6666666666666666,
              "#ed7953"
             ],
             [
              0.7777777777777778,
              "#fb9f3a"
             ],
             [
              0.8888888888888888,
              "#fdca26"
             ],
             [
              1,
              "#f0f921"
             ]
            ],
            "type": "heatmap"
           }
          ],
          "heatmapgl": [
           {
            "colorbar": {
             "outlinewidth": 0,
             "ticks": ""
            },
            "colorscale": [
             [
              0,
              "#0d0887"
             ],
             [
              0.1111111111111111,
              "#46039f"
             ],
             [
              0.2222222222222222,
              "#7201a8"
             ],
             [
              0.3333333333333333,
              "#9c179e"
             ],
             [
              0.4444444444444444,
              "#bd3786"
             ],
             [
              0.5555555555555556,
              "#d8576b"
             ],
             [
              0.6666666666666666,
              "#ed7953"
             ],
             [
              0.7777777777777778,
              "#fb9f3a"
             ],
             [
              0.8888888888888888,
              "#fdca26"
             ],
             [
              1,
              "#f0f921"
             ]
            ],
            "type": "heatmapgl"
           }
          ],
          "histogram": [
           {
            "marker": {
             "colorbar": {
              "outlinewidth": 0,
              "ticks": ""
             }
            },
            "type": "histogram"
           }
          ],
          "histogram2d": [
           {
            "colorbar": {
             "outlinewidth": 0,
             "ticks": ""
            },
            "colorscale": [
             [
              0,
              "#0d0887"
             ],
             [
              0.1111111111111111,
              "#46039f"
             ],
             [
              0.2222222222222222,
              "#7201a8"
             ],
             [
              0.3333333333333333,
              "#9c179e"
             ],
             [
              0.4444444444444444,
              "#bd3786"
             ],
             [
              0.5555555555555556,
              "#d8576b"
             ],
             [
              0.6666666666666666,
              "#ed7953"
             ],
             [
              0.7777777777777778,
              "#fb9f3a"
             ],
             [
              0.8888888888888888,
              "#fdca26"
             ],
             [
              1,
              "#f0f921"
             ]
            ],
            "type": "histogram2d"
           }
          ],
          "histogram2dcontour": [
           {
            "colorbar": {
             "outlinewidth": 0,
             "ticks": ""
            },
            "colorscale": [
             [
              0,
              "#0d0887"
             ],
             [
              0.1111111111111111,
              "#46039f"
             ],
             [
              0.2222222222222222,
              "#7201a8"
             ],
             [
              0.3333333333333333,
              "#9c179e"
             ],
             [
              0.4444444444444444,
              "#bd3786"
             ],
             [
              0.5555555555555556,
              "#d8576b"
             ],
             [
              0.6666666666666666,
              "#ed7953"
             ],
             [
              0.7777777777777778,
              "#fb9f3a"
             ],
             [
              0.8888888888888888,
              "#fdca26"
             ],
             [
              1,
              "#f0f921"
             ]
            ],
            "type": "histogram2dcontour"
           }
          ],
          "mesh3d": [
           {
            "colorbar": {
             "outlinewidth": 0,
             "ticks": ""
            },
            "type": "mesh3d"
           }
          ],
          "parcoords": [
           {
            "line": {
             "colorbar": {
              "outlinewidth": 0,
              "ticks": ""
             }
            },
            "type": "parcoords"
           }
          ],
          "pie": [
           {
            "automargin": true,
            "type": "pie"
           }
          ],
          "scatter": [
           {
            "marker": {
             "colorbar": {
              "outlinewidth": 0,
              "ticks": ""
             }
            },
            "type": "scatter"
           }
          ],
          "scatter3d": [
           {
            "line": {
             "colorbar": {
              "outlinewidth": 0,
              "ticks": ""
             }
            },
            "marker": {
             "colorbar": {
              "outlinewidth": 0,
              "ticks": ""
             }
            },
            "type": "scatter3d"
           }
          ],
          "scattercarpet": [
           {
            "marker": {
             "colorbar": {
              "outlinewidth": 0,
              "ticks": ""
             }
            },
            "type": "scattercarpet"
           }
          ],
          "scattergeo": [
           {
            "marker": {
             "colorbar": {
              "outlinewidth": 0,
              "ticks": ""
             }
            },
            "type": "scattergeo"
           }
          ],
          "scattergl": [
           {
            "marker": {
             "colorbar": {
              "outlinewidth": 0,
              "ticks": ""
             }
            },
            "type": "scattergl"
           }
          ],
          "scattermapbox": [
           {
            "marker": {
             "colorbar": {
              "outlinewidth": 0,
              "ticks": ""
             }
            },
            "type": "scattermapbox"
           }
          ],
          "scatterpolar": [
           {
            "marker": {
             "colorbar": {
              "outlinewidth": 0,
              "ticks": ""
             }
            },
            "type": "scatterpolar"
           }
          ],
          "scatterpolargl": [
           {
            "marker": {
             "colorbar": {
              "outlinewidth": 0,
              "ticks": ""
             }
            },
            "type": "scatterpolargl"
           }
          ],
          "scatterternary": [
           {
            "marker": {
             "colorbar": {
              "outlinewidth": 0,
              "ticks": ""
             }
            },
            "type": "scatterternary"
           }
          ],
          "surface": [
           {
            "colorbar": {
             "outlinewidth": 0,
             "ticks": ""
            },
            "colorscale": [
             [
              0,
              "#0d0887"
             ],
             [
              0.1111111111111111,
              "#46039f"
             ],
             [
              0.2222222222222222,
              "#7201a8"
             ],
             [
              0.3333333333333333,
              "#9c179e"
             ],
             [
              0.4444444444444444,
              "#bd3786"
             ],
             [
              0.5555555555555556,
              "#d8576b"
             ],
             [
              0.6666666666666666,
              "#ed7953"
             ],
             [
              0.7777777777777778,
              "#fb9f3a"
             ],
             [
              0.8888888888888888,
              "#fdca26"
             ],
             [
              1,
              "#f0f921"
             ]
            ],
            "type": "surface"
           }
          ],
          "table": [
           {
            "cells": {
             "fill": {
              "color": "#EBF0F8"
             },
             "line": {
              "color": "white"
             }
            },
            "header": {
             "fill": {
              "color": "#C8D4E3"
             },
             "line": {
              "color": "white"
             }
            },
            "type": "table"
           }
          ]
         },
         "layout": {
          "annotationdefaults": {
           "arrowcolor": "#2a3f5f",
           "arrowhead": 0,
           "arrowwidth": 1
          },
          "autotypenumbers": "strict",
          "coloraxis": {
           "colorbar": {
            "outlinewidth": 0,
            "ticks": ""
           }
          },
          "colorscale": {
           "diverging": [
            [
             0,
             "#8e0152"
            ],
            [
             0.1,
             "#c51b7d"
            ],
            [
             0.2,
             "#de77ae"
            ],
            [
             0.3,
             "#f1b6da"
            ],
            [
             0.4,
             "#fde0ef"
            ],
            [
             0.5,
             "#f7f7f7"
            ],
            [
             0.6,
             "#e6f5d0"
            ],
            [
             0.7,
             "#b8e186"
            ],
            [
             0.8,
             "#7fbc41"
            ],
            [
             0.9,
             "#4d9221"
            ],
            [
             1,
             "#276419"
            ]
           ],
           "sequential": [
            [
             0,
             "#0d0887"
            ],
            [
             0.1111111111111111,
             "#46039f"
            ],
            [
             0.2222222222222222,
             "#7201a8"
            ],
            [
             0.3333333333333333,
             "#9c179e"
            ],
            [
             0.4444444444444444,
             "#bd3786"
            ],
            [
             0.5555555555555556,
             "#d8576b"
            ],
            [
             0.6666666666666666,
             "#ed7953"
            ],
            [
             0.7777777777777778,
             "#fb9f3a"
            ],
            [
             0.8888888888888888,
             "#fdca26"
            ],
            [
             1,
             "#f0f921"
            ]
           ],
           "sequentialminus": [
            [
             0,
             "#0d0887"
            ],
            [
             0.1111111111111111,
             "#46039f"
            ],
            [
             0.2222222222222222,
             "#7201a8"
            ],
            [
             0.3333333333333333,
             "#9c179e"
            ],
            [
             0.4444444444444444,
             "#bd3786"
            ],
            [
             0.5555555555555556,
             "#d8576b"
            ],
            [
             0.6666666666666666,
             "#ed7953"
            ],
            [
             0.7777777777777778,
             "#fb9f3a"
            ],
            [
             0.8888888888888888,
             "#fdca26"
            ],
            [
             1,
             "#f0f921"
            ]
           ]
          },
          "colorway": [
           "#636efa",
           "#EF553B",
           "#00cc96",
           "#ab63fa",
           "#FFA15A",
           "#19d3f3",
           "#FF6692",
           "#B6E880",
           "#FF97FF",
           "#FECB52"
          ],
          "font": {
           "color": "#2a3f5f"
          },
          "geo": {
           "bgcolor": "white",
           "lakecolor": "white",
           "landcolor": "#E5ECF6",
           "showlakes": true,
           "showland": true,
           "subunitcolor": "white"
          },
          "hoverlabel": {
           "align": "left"
          },
          "hovermode": "closest",
          "mapbox": {
           "style": "light"
          },
          "paper_bgcolor": "white",
          "plot_bgcolor": "#E5ECF6",
          "polar": {
           "angularaxis": {
            "gridcolor": "white",
            "linecolor": "white",
            "ticks": ""
           },
           "bgcolor": "#E5ECF6",
           "radialaxis": {
            "gridcolor": "white",
            "linecolor": "white",
            "ticks": ""
           }
          },
          "scene": {
           "xaxis": {
            "backgroundcolor": "#E5ECF6",
            "gridcolor": "white",
            "gridwidth": 2,
            "linecolor": "white",
            "showbackground": true,
            "ticks": "",
            "zerolinecolor": "white"
           },
           "yaxis": {
            "backgroundcolor": "#E5ECF6",
            "gridcolor": "white",
            "gridwidth": 2,
            "linecolor": "white",
            "showbackground": true,
            "ticks": "",
            "zerolinecolor": "white"
           },
           "zaxis": {
            "backgroundcolor": "#E5ECF6",
            "gridcolor": "white",
            "gridwidth": 2,
            "linecolor": "white",
            "showbackground": true,
            "ticks": "",
            "zerolinecolor": "white"
           }
          },
          "shapedefaults": {
           "line": {
            "color": "#2a3f5f"
           }
          },
          "ternary": {
           "aaxis": {
            "gridcolor": "white",
            "linecolor": "white",
            "ticks": ""
           },
           "baxis": {
            "gridcolor": "white",
            "linecolor": "white",
            "ticks": ""
           },
           "bgcolor": "#E5ECF6",
           "caxis": {
            "gridcolor": "white",
            "linecolor": "white",
            "ticks": ""
           }
          },
          "title": {
           "x": 0.05
          },
          "xaxis": {
           "automargin": true,
           "gridcolor": "white",
           "linecolor": "white",
           "ticks": "",
           "title": {
            "standoff": 15
           },
           "zerolinecolor": "white",
           "zerolinewidth": 2
          },
          "yaxis": {
           "automargin": true,
           "gridcolor": "white",
           "linecolor": "white",
           "ticks": "",
           "title": {
            "standoff": 15
           },
           "zerolinecolor": "white",
           "zerolinewidth": 2
          }
         }
        },
        "title": {
         "text": "Inflation, consumer prices (annual %)"
        },
        "xaxis": {
         "gridcolor": "#D0D0D0",
         "title": {
          "text": "Year"
         },
         "zerolinecolor": "black"
        },
        "yaxis": {
         "gridcolor": "#D0D0D0",
         "title": {
          "text": "Percentage of Annual Growth"
         },
         "zerolinecolor": "black"
        }
       }
      },
      "text/html": [
       "<div>                            <div id=\"5485f69f-6e5e-4e48-b4b9-1277e958231e\" class=\"plotly-graph-div\" style=\"height:525px; width:100%;\"></div>            <script type=\"text/javascript\">                require([\"plotly\"], function(Plotly) {                    window.PLOTLYENV=window.PLOTLYENV || {};                                    if (document.getElementById(\"5485f69f-6e5e-4e48-b4b9-1277e958231e\")) {                    Plotly.newPlot(                        \"5485f69f-6e5e-4e48-b4b9-1277e958231e\",                        [{\"mode\": \"lines\", \"name\": \"Malawi\", \"type\": \"scatter\", \"x\": [\"1981-01-01\", \"1982-01-01\", \"1983-01-01\", \"1984-01-01\", \"1985-01-01\", \"1986-01-01\", \"1987-01-01\", \"1988-01-01\", \"1989-01-01\", \"1990-01-01\", \"1991-01-01\", \"1992-01-01\", \"1993-01-01\", \"1994-01-01\", \"1995-01-01\", \"1996-01-01\", \"1997-01-01\", \"1998-01-01\", \"1999-01-01\", \"2000-01-01\", \"2001-01-01\", \"2002-01-01\", \"2003-01-01\", \"2004-01-01\", \"2005-01-01\", \"2006-01-01\", \"2007-01-01\", \"2008-01-01\", \"2009-01-01\", \"2010-01-01\", \"2011-01-01\", \"2012-01-01\", \"2013-01-01\", \"2014-01-01\", \"2015-01-01\", \"2016-01-01\", \"2017-01-01\", \"2018-01-01\", \"2019-01-01\", \"2020-01-01\", \"2021-01-01\"], \"y\": [12.01, 9.52, 13.77, 19.74, 10.64, 14.18, 25.05, 33.85, 12.45, 11.88, 8.23, 23.24, 22.77, 34.66, 83.15, 37.73, 9.14, 29.75, 44.76, 29.6, 27.25, 17.27, 9.56, 5.21, 15.43, 13.9, 7.95, 8.71, 8.4, 7.4, 7.6, 21.3, 27.3, 23.78, 21.87, 21.72, 11.55, 9.2, 8.98, 8.36, 7.39]}, {\"mode\": \"lines\", \"name\": \"Zambia\", \"type\": \"scatter\", \"x\": [\"1981-01-01\", \"1982-01-01\", \"1983-01-01\", \"1984-01-01\", \"1985-01-01\", \"1986-01-01\", \"1987-01-01\", \"1988-01-01\", \"1989-01-01\", \"1990-01-01\", \"1991-01-01\", \"1992-01-01\", \"1993-01-01\", \"1994-01-01\", \"1995-01-01\", \"1996-01-01\", \"1997-01-01\", \"1998-01-01\", \"1999-01-01\", \"2000-01-01\", \"2001-01-01\", \"2002-01-01\", \"2003-01-01\", \"2004-01-01\", \"2005-01-01\", \"2006-01-01\", \"2007-01-01\", \"2008-01-01\", \"2009-01-01\", \"2010-01-01\", \"2011-01-01\", \"2012-01-01\", \"2013-01-01\", \"2014-01-01\", \"2015-01-01\", \"2016-01-01\", \"2017-01-01\", \"2018-01-01\", \"2019-01-01\", \"2020-01-01\", \"2021-01-01\"], \"y\": [12.49, 11.11, 19.99, 22.21, 54.53, 55.82, 47.05, 51.0, 123.41, 107.11, 93.21, 169.05, 188.05, 53.61, 34.2, 43.09, 24.4, 24.46, 26.79, 26.1, 21.7, 22.2, 21.51, 17.57, 18.34, 9.02, 10.66, 12.45, 13.4, 8.5, 8.66, 6.6, 6.98, 7.8, 10.11, 17.87, 6.58, 7.48, 9.24, 9.04, 9.2]}, {\"mode\": \"lines\", \"name\": \"Tanzania\", \"type\": \"scatter\", \"x\": [\"1981-01-01\", \"1982-01-01\", \"1983-01-01\", \"1984-01-01\", \"1985-01-01\", \"1986-01-01\", \"1987-01-01\", \"1988-01-01\", \"1989-01-01\", \"1990-01-01\", \"1991-01-01\", \"1992-01-01\", \"1993-01-01\", \"1994-01-01\", \"1995-01-01\", \"1996-01-01\", \"1997-01-01\", \"1998-01-01\", \"1999-01-01\", \"2000-01-01\", \"2001-01-01\", \"2002-01-01\", \"2003-01-01\", \"2004-01-01\", \"2005-01-01\", \"2006-01-01\", \"2007-01-01\", \"2008-01-01\", \"2009-01-01\", \"2010-01-01\", \"2011-01-01\", \"2012-01-01\", \"2013-01-01\", \"2014-01-01\", \"2015-01-01\", \"2016-01-01\", \"2017-01-01\", \"2018-01-01\", \"2019-01-01\", \"2020-01-01\", \"2021-01-01\"], \"y\": [25.65, 28.93, 27.06, 36.15, 33.28, 32.43, 29.95, 31.19, 25.85, 33.95, 28.7, 21.85, 25.28, 33.09, 28.38, 20.98, 16.1, 12.9, 7.7, 6.0, 5.1, 4.3, 5.3, 3.58, 5.03, 7.25, 7.03, 10.28, 12.14, 8.25, 12.69, 16.0, 7.87, 6.13, 5.59, 5.17, 5.32, 3.6, 3.31, 3.29, 3.39]}, {\"mode\": \"lines\", \"name\": \"Mozambique\", \"type\": \"scatter\", \"x\": [\"1981-01-01\", \"1982-01-01\", \"1983-01-01\", \"1984-01-01\", \"1985-01-01\", \"1986-01-01\", \"1987-01-01\", \"1988-01-01\", \"1989-01-01\", \"1990-01-01\", \"1991-01-01\", \"1992-01-01\", \"1993-01-01\", \"1994-01-01\", \"1995-01-01\", \"1996-01-01\", \"1997-01-01\", \"1998-01-01\", \"1999-01-01\", \"2000-01-01\", \"2001-01-01\", \"2002-01-01\", \"2003-01-01\", \"2004-01-01\", \"2005-01-01\", \"2006-01-01\", \"2007-01-01\", \"2008-01-01\", \"2009-01-01\", \"2010-01-01\", \"2011-01-01\", \"2012-01-01\", \"2013-01-01\", \"2014-01-01\", \"2015-01-01\", \"2016-01-01\", \"2017-01-01\", \"2018-01-01\", \"2019-01-01\", \"2020-01-01\", \"2021-01-01\"], \"y\": [4.23, 17.73, 28.31, 29.99, 30.79, 40.52, 164.06, 58.5, 42.07, 43.72, 33.26, 45.07, 42.26, 63.12, 54.43, 44.61, 6.38, 0.6, 2.86, 12.72, 9.06, 16.77, 13.46, 12.63, 6.43, 13.25, 8.16, 10.33, 3.25, 12.7, 10.35, 2.09, 4.21, 2.29, 2.39, 19.24, 15.11, 3.91, 3.45, 5.39, 5.07]}, {\"mode\": \"lines\", \"name\": \"Zimbabwe\", \"type\": \"scatter\", \"x\": [\"1981-01-01\", \"1982-01-01\", \"1983-01-01\", \"1984-01-01\", \"1985-01-01\", \"1986-01-01\", \"1987-01-01\", \"1988-01-01\", \"1989-01-01\", \"1990-01-01\", \"1991-01-01\", \"1992-01-01\", \"1993-01-01\", \"1994-01-01\", \"1995-01-01\", \"1996-01-01\", \"1997-01-01\", \"1998-01-01\", \"1999-01-01\", \"2000-01-01\", \"2001-01-01\", \"2002-01-01\", \"2003-01-01\", \"2004-01-01\", \"2005-01-01\", \"2006-01-01\", \"2007-01-01\", \"2008-01-01\", \"2009-01-01\", \"2010-01-01\", \"2011-01-01\", \"2012-01-01\", \"2013-01-01\", \"2014-01-01\", \"2015-01-01\", \"2016-01-01\", \"2017-01-01\", \"2018-01-01\", \"2019-01-01\", \"2020-01-01\", \"2021-01-01\"], \"y\": [13.15, 10.63, 23.12, 20.15, 8.49, 14.33, 12.47, 7.42, 12.88, 18.24, 23.34, 42.06, 27.59, 22.26, 22.59, 21.51, 18.8, 31.33, 57.75, 55.87, -37.2, -34.44, -8.56, 165.65, 1.98, 4.25, -4.1, 7.31, 6.22, 3.03, 3.47, 3.72, 1.63, -0.21, -2.41, -1.56, 0.91, 10.5, 200.37, 76.73, 9.44]}],                        {\"plot_bgcolor\": \"#fff\", \"template\": {\"data\": {\"bar\": [{\"error_x\": {\"color\": \"#2a3f5f\"}, \"error_y\": {\"color\": \"#2a3f5f\"}, \"marker\": {\"line\": {\"color\": \"#E5ECF6\", \"width\": 0.5}}, \"type\": \"bar\"}], \"barpolar\": [{\"marker\": {\"line\": {\"color\": \"#E5ECF6\", \"width\": 0.5}}, \"type\": \"barpolar\"}], \"carpet\": [{\"aaxis\": {\"endlinecolor\": \"#2a3f5f\", \"gridcolor\": \"white\", \"linecolor\": \"white\", \"minorgridcolor\": \"white\", \"startlinecolor\": \"#2a3f5f\"}, \"baxis\": {\"endlinecolor\": \"#2a3f5f\", \"gridcolor\": \"white\", \"linecolor\": \"white\", \"minorgridcolor\": \"white\", \"startlinecolor\": \"#2a3f5f\"}, \"type\": \"carpet\"}], \"choropleth\": [{\"colorbar\": {\"outlinewidth\": 0, \"ticks\": \"\"}, \"type\": \"choropleth\"}], \"contour\": [{\"colorbar\": {\"outlinewidth\": 0, \"ticks\": \"\"}, \"colorscale\": [[0.0, \"#0d0887\"], [0.1111111111111111, \"#46039f\"], [0.2222222222222222, \"#7201a8\"], [0.3333333333333333, \"#9c179e\"], [0.4444444444444444, \"#bd3786\"], [0.5555555555555556, \"#d8576b\"], [0.6666666666666666, \"#ed7953\"], [0.7777777777777778, \"#fb9f3a\"], [0.8888888888888888, \"#fdca26\"], [1.0, \"#f0f921\"]], \"type\": \"contour\"}], \"contourcarpet\": [{\"colorbar\": {\"outlinewidth\": 0, \"ticks\": \"\"}, \"type\": \"contourcarpet\"}], \"heatmap\": [{\"colorbar\": {\"outlinewidth\": 0, \"ticks\": \"\"}, \"colorscale\": [[0.0, \"#0d0887\"], [0.1111111111111111, \"#46039f\"], [0.2222222222222222, \"#7201a8\"], [0.3333333333333333, \"#9c179e\"], [0.4444444444444444, \"#bd3786\"], [0.5555555555555556, \"#d8576b\"], [0.6666666666666666, \"#ed7953\"], [0.7777777777777778, \"#fb9f3a\"], [0.8888888888888888, \"#fdca26\"], [1.0, \"#f0f921\"]], \"type\": \"heatmap\"}], \"heatmapgl\": [{\"colorbar\": {\"outlinewidth\": 0, \"ticks\": \"\"}, \"colorscale\": [[0.0, \"#0d0887\"], [0.1111111111111111, \"#46039f\"], [0.2222222222222222, \"#7201a8\"], [0.3333333333333333, \"#9c179e\"], [0.4444444444444444, \"#bd3786\"], [0.5555555555555556, \"#d8576b\"], [0.6666666666666666, \"#ed7953\"], [0.7777777777777778, \"#fb9f3a\"], [0.8888888888888888, \"#fdca26\"], [1.0, \"#f0f921\"]], \"type\": \"heatmapgl\"}], \"histogram\": [{\"marker\": {\"colorbar\": {\"outlinewidth\": 0, \"ticks\": \"\"}}, \"type\": \"histogram\"}], \"histogram2d\": [{\"colorbar\": {\"outlinewidth\": 0, \"ticks\": \"\"}, \"colorscale\": [[0.0, \"#0d0887\"], [0.1111111111111111, \"#46039f\"], [0.2222222222222222, \"#7201a8\"], [0.3333333333333333, \"#9c179e\"], [0.4444444444444444, \"#bd3786\"], [0.5555555555555556, \"#d8576b\"], [0.6666666666666666, \"#ed7953\"], [0.7777777777777778, \"#fb9f3a\"], [0.8888888888888888, \"#fdca26\"], [1.0, \"#f0f921\"]], \"type\": \"histogram2d\"}], \"histogram2dcontour\": [{\"colorbar\": {\"outlinewidth\": 0, \"ticks\": \"\"}, \"colorscale\": [[0.0, \"#0d0887\"], [0.1111111111111111, \"#46039f\"], [0.2222222222222222, \"#7201a8\"], [0.3333333333333333, \"#9c179e\"], [0.4444444444444444, \"#bd3786\"], [0.5555555555555556, \"#d8576b\"], [0.6666666666666666, \"#ed7953\"], [0.7777777777777778, \"#fb9f3a\"], [0.8888888888888888, \"#fdca26\"], [1.0, \"#f0f921\"]], \"type\": \"histogram2dcontour\"}], \"mesh3d\": [{\"colorbar\": {\"outlinewidth\": 0, \"ticks\": \"\"}, \"type\": \"mesh3d\"}], \"parcoords\": [{\"line\": {\"colorbar\": {\"outlinewidth\": 0, \"ticks\": \"\"}}, \"type\": \"parcoords\"}], \"pie\": [{\"automargin\": true, \"type\": \"pie\"}], \"scatter\": [{\"marker\": {\"colorbar\": {\"outlinewidth\": 0, \"ticks\": \"\"}}, \"type\": \"scatter\"}], \"scatter3d\": [{\"line\": {\"colorbar\": {\"outlinewidth\": 0, \"ticks\": \"\"}}, \"marker\": {\"colorbar\": {\"outlinewidth\": 0, \"ticks\": \"\"}}, \"type\": \"scatter3d\"}], \"scattercarpet\": [{\"marker\": {\"colorbar\": {\"outlinewidth\": 0, \"ticks\": \"\"}}, \"type\": \"scattercarpet\"}], \"scattergeo\": [{\"marker\": {\"colorbar\": {\"outlinewidth\": 0, \"ticks\": \"\"}}, \"type\": \"scattergeo\"}], \"scattergl\": [{\"marker\": {\"colorbar\": {\"outlinewidth\": 0, \"ticks\": \"\"}}, \"type\": \"scattergl\"}], \"scattermapbox\": [{\"marker\": {\"colorbar\": {\"outlinewidth\": 0, \"ticks\": \"\"}}, \"type\": \"scattermapbox\"}], \"scatterpolar\": [{\"marker\": {\"colorbar\": {\"outlinewidth\": 0, \"ticks\": \"\"}}, \"type\": \"scatterpolar\"}], \"scatterpolargl\": [{\"marker\": {\"colorbar\": {\"outlinewidth\": 0, \"ticks\": \"\"}}, \"type\": \"scatterpolargl\"}], \"scatterternary\": [{\"marker\": {\"colorbar\": {\"outlinewidth\": 0, \"ticks\": \"\"}}, \"type\": \"scatterternary\"}], \"surface\": [{\"colorbar\": {\"outlinewidth\": 0, \"ticks\": \"\"}, \"colorscale\": [[0.0, \"#0d0887\"], [0.1111111111111111, \"#46039f\"], [0.2222222222222222, \"#7201a8\"], [0.3333333333333333, \"#9c179e\"], [0.4444444444444444, \"#bd3786\"], [0.5555555555555556, \"#d8576b\"], [0.6666666666666666, \"#ed7953\"], [0.7777777777777778, \"#fb9f3a\"], [0.8888888888888888, \"#fdca26\"], [1.0, \"#f0f921\"]], \"type\": \"surface\"}], \"table\": [{\"cells\": {\"fill\": {\"color\": \"#EBF0F8\"}, \"line\": {\"color\": \"white\"}}, \"header\": {\"fill\": {\"color\": \"#C8D4E3\"}, \"line\": {\"color\": \"white\"}}, \"type\": \"table\"}]}, \"layout\": {\"annotationdefaults\": {\"arrowcolor\": \"#2a3f5f\", \"arrowhead\": 0, \"arrowwidth\": 1}, \"autotypenumbers\": \"strict\", \"coloraxis\": {\"colorbar\": {\"outlinewidth\": 0, \"ticks\": \"\"}}, \"colorscale\": {\"diverging\": [[0, \"#8e0152\"], [0.1, \"#c51b7d\"], [0.2, \"#de77ae\"], [0.3, \"#f1b6da\"], [0.4, \"#fde0ef\"], [0.5, \"#f7f7f7\"], [0.6, \"#e6f5d0\"], [0.7, \"#b8e186\"], [0.8, \"#7fbc41\"], [0.9, \"#4d9221\"], [1, \"#276419\"]], \"sequential\": [[0.0, \"#0d0887\"], [0.1111111111111111, \"#46039f\"], [0.2222222222222222, \"#7201a8\"], [0.3333333333333333, \"#9c179e\"], [0.4444444444444444, \"#bd3786\"], [0.5555555555555556, \"#d8576b\"], [0.6666666666666666, \"#ed7953\"], [0.7777777777777778, \"#fb9f3a\"], [0.8888888888888888, \"#fdca26\"], [1.0, \"#f0f921\"]], \"sequentialminus\": [[0.0, \"#0d0887\"], [0.1111111111111111, \"#46039f\"], [0.2222222222222222, \"#7201a8\"], [0.3333333333333333, \"#9c179e\"], [0.4444444444444444, \"#bd3786\"], [0.5555555555555556, \"#d8576b\"], [0.6666666666666666, \"#ed7953\"], [0.7777777777777778, \"#fb9f3a\"], [0.8888888888888888, \"#fdca26\"], [1.0, \"#f0f921\"]]}, \"colorway\": [\"#636efa\", \"#EF553B\", \"#00cc96\", \"#ab63fa\", \"#FFA15A\", \"#19d3f3\", \"#FF6692\", \"#B6E880\", \"#FF97FF\", \"#FECB52\"], \"font\": {\"color\": \"#2a3f5f\"}, \"geo\": {\"bgcolor\": \"white\", \"lakecolor\": \"white\", \"landcolor\": \"#E5ECF6\", \"showlakes\": true, \"showland\": true, \"subunitcolor\": \"white\"}, \"hoverlabel\": {\"align\": \"left\"}, \"hovermode\": \"closest\", \"mapbox\": {\"style\": \"light\"}, \"paper_bgcolor\": \"white\", \"plot_bgcolor\": \"#E5ECF6\", \"polar\": {\"angularaxis\": {\"gridcolor\": \"white\", \"linecolor\": \"white\", \"ticks\": \"\"}, \"bgcolor\": \"#E5ECF6\", \"radialaxis\": {\"gridcolor\": \"white\", \"linecolor\": \"white\", \"ticks\": \"\"}}, \"scene\": {\"xaxis\": {\"backgroundcolor\": \"#E5ECF6\", \"gridcolor\": \"white\", \"gridwidth\": 2, \"linecolor\": \"white\", \"showbackground\": true, \"ticks\": \"\", \"zerolinecolor\": \"white\"}, \"yaxis\": {\"backgroundcolor\": \"#E5ECF6\", \"gridcolor\": \"white\", \"gridwidth\": 2, \"linecolor\": \"white\", \"showbackground\": true, \"ticks\": \"\", \"zerolinecolor\": \"white\"}, \"zaxis\": {\"backgroundcolor\": \"#E5ECF6\", \"gridcolor\": \"white\", \"gridwidth\": 2, \"linecolor\": \"white\", \"showbackground\": true, \"ticks\": \"\", \"zerolinecolor\": \"white\"}}, \"shapedefaults\": {\"line\": {\"color\": \"#2a3f5f\"}}, \"ternary\": {\"aaxis\": {\"gridcolor\": \"white\", \"linecolor\": \"white\", \"ticks\": \"\"}, \"baxis\": {\"gridcolor\": \"white\", \"linecolor\": \"white\", \"ticks\": \"\"}, \"bgcolor\": \"#E5ECF6\", \"caxis\": {\"gridcolor\": \"white\", \"linecolor\": \"white\", \"ticks\": \"\"}}, \"title\": {\"x\": 0.05}, \"xaxis\": {\"automargin\": true, \"gridcolor\": \"white\", \"linecolor\": \"white\", \"ticks\": \"\", \"title\": {\"standoff\": 15}, \"zerolinecolor\": \"white\", \"zerolinewidth\": 2}, \"yaxis\": {\"automargin\": true, \"gridcolor\": \"white\", \"linecolor\": \"white\", \"ticks\": \"\", \"title\": {\"standoff\": 15}, \"zerolinecolor\": \"white\", \"zerolinewidth\": 2}}}, \"title\": {\"text\": \"Inflation, consumer prices (annual %)\"}, \"xaxis\": {\"gridcolor\": \"#D0D0D0\", \"title\": {\"text\": \"Year\"}, \"zerolinecolor\": \"black\"}, \"yaxis\": {\"gridcolor\": \"#D0D0D0\", \"title\": {\"text\": \"Percentage of Annual Growth\"}, \"zerolinecolor\": \"black\"}},                        {\"responsive\": true}                    ).then(function(){\n",
       "                            \n",
       "var gd = document.getElementById('5485f69f-6e5e-4e48-b4b9-1277e958231e');\n",
       "var x = new MutationObserver(function (mutations, observer) {{\n",
       "        var display = window.getComputedStyle(gd).display;\n",
       "        if (!display || display === 'none') {{\n",
       "            console.log([gd, 'removed!']);\n",
       "            Plotly.purge(gd);\n",
       "            observer.disconnect();\n",
       "        }}\n",
       "}});\n",
       "\n",
       "// Listen for the removal of the full notebook cells\n",
       "var notebookContainer = gd.closest('#notebook-container');\n",
       "if (notebookContainer) {{\n",
       "    x.observe(notebookContainer, {childList: true});\n",
       "}}\n",
       "\n",
       "// Listen for the clearing of the current output cell\n",
       "var outputEl = gd.closest('.output');\n",
       "if (outputEl) {{\n",
       "    x.observe(outputEl, {childList: true});\n",
       "}}\n",
       "\n",
       "                        })                };                });            </script>        </div>"
      ]
     },
     "metadata": {},
     "output_type": "display_data"
    }
   ],
   "source": [
    "traces = []\n",
    "\n",
    "countries = ['Malawi', 'Zambia', 'Tanzania', 'Mozambique', 'Zimbabwe']\n",
    "\n",
    "for country in countries:\n",
    "    traces.append({\n",
    "        'type':'scatter',\n",
    "        'mode':'lines',\n",
    "        'x': dataset.loc[(dataset['country']==country) & (dataset['indicator']==\"FP.CPI.TOTL.ZG\")]['date'],\n",
    "        'y': dataset.loc[(dataset['country']==country) & (dataset['indicator']==\"FP.CPI.TOTL.ZG\")]['value'],\n",
    "        'name': country\n",
    "    })\n",
    "\n",
    "layout = {\n",
    "    'title': dataset.loc[dataset['indicator']==\"FP.CPI.TOTL.ZG\", 'indicatorName'].unique()[0],\n",
    "    'xaxis': {\n",
    "        'title': 'Year',\n",
    "        'gridcolor':'#D0D0D0',\n",
    "        'zerolinecolor': 'black'\n",
    "    },\n",
    "    'yaxis':{\n",
    "        'title': 'Percentage of Annual Growth',\n",
    "        'gridcolor':'#D0D0D0',\n",
    "        'zerolinecolor': 'black'\n",
    "    },\n",
    "    'plot_bgcolor': '#fff'\n",
    "}\n",
    "\n",
    "fig = Figure(traces, layout)\n",
    "\n",
    "fig"
   ]
  },
  {
   "cell_type": "code",
   "execution_count": 63,
   "metadata": {},
   "outputs": [
    {
     "data": {
      "text/plain": [
       "[{'type': 'scatter',\n",
       "  'mode': 'lines',\n",
       "  'x': 45841    1981-01-01\n",
       "  45842    1982-01-01\n",
       "  45843    1983-01-01\n",
       "  45844    1984-01-01\n",
       "  45845    1985-01-01\n",
       "  45846    1986-01-01\n",
       "  45847    1987-01-01\n",
       "  45848    1988-01-01\n",
       "  45849    1989-01-01\n",
       "  45850    1990-01-01\n",
       "  45851    1991-01-01\n",
       "  45852    1992-01-01\n",
       "  45853    1993-01-01\n",
       "  45854    1994-01-01\n",
       "  45855    1995-01-01\n",
       "  45856    1996-01-01\n",
       "  45857    1997-01-01\n",
       "  45858    1998-01-01\n",
       "  45859    1999-01-01\n",
       "  45860    2000-01-01\n",
       "  45861    2001-01-01\n",
       "  45862    2002-01-01\n",
       "  45863    2003-01-01\n",
       "  45864    2004-01-01\n",
       "  45865    2005-01-01\n",
       "  45866    2006-01-01\n",
       "  45867    2007-01-01\n",
       "  45868    2008-01-01\n",
       "  45869    2009-01-01\n",
       "  45870    2010-01-01\n",
       "  45871    2011-01-01\n",
       "  45872    2012-01-01\n",
       "  45873    2013-01-01\n",
       "  45874    2014-01-01\n",
       "  45875    2015-01-01\n",
       "  45876    2016-01-01\n",
       "  45877    2017-01-01\n",
       "  45878    2018-01-01\n",
       "  45879    2019-01-01\n",
       "  45880    2020-01-01\n",
       "  45881    2021-01-01\n",
       "  Name: date, dtype: object,\n",
       "  'y': 45841    12.01\n",
       "  45842     9.52\n",
       "  45843    13.77\n",
       "  45844    19.74\n",
       "  45845    10.64\n",
       "  45846    14.18\n",
       "  45847    25.05\n",
       "  45848    33.85\n",
       "  45849    12.45\n",
       "  45850    11.88\n",
       "  45851     8.23\n",
       "  45852    23.24\n",
       "  45853    22.77\n",
       "  45854    34.66\n",
       "  45855    83.15\n",
       "  45856    37.73\n",
       "  45857     9.14\n",
       "  45858    29.75\n",
       "  45859    44.76\n",
       "  45860    29.60\n",
       "  45861    27.25\n",
       "  45862    17.27\n",
       "  45863     9.56\n",
       "  45864     5.21\n",
       "  45865    15.43\n",
       "  45866    13.90\n",
       "  45867     7.95\n",
       "  45868     8.71\n",
       "  45869     8.40\n",
       "  45870     7.40\n",
       "  45871     7.60\n",
       "  45872    21.30\n",
       "  45873    27.30\n",
       "  45874    23.78\n",
       "  45875    21.87\n",
       "  45876    21.72\n",
       "  45877    11.55\n",
       "  45878     9.20\n",
       "  45879     8.98\n",
       "  45880     8.36\n",
       "  45881     7.39\n",
       "  Name: value, dtype: float64,\n",
       "  'name': 'Malawi'},\n",
       " {'type': 'scatter',\n",
       "  'mode': 'lines',\n",
       "  'x': 18038    1981-01-01\n",
       "  18039    1982-01-01\n",
       "  18040    1983-01-01\n",
       "  18041    1984-01-01\n",
       "  18042    1985-01-01\n",
       "  18043    1986-01-01\n",
       "  18044    1987-01-01\n",
       "  18045    1988-01-01\n",
       "  18046    1989-01-01\n",
       "  18047    1990-01-01\n",
       "  18048    1991-01-01\n",
       "  18049    1992-01-01\n",
       "  18050    1993-01-01\n",
       "  18051    1994-01-01\n",
       "  18052    1995-01-01\n",
       "  18053    1996-01-01\n",
       "  18054    1997-01-01\n",
       "  18055    1998-01-01\n",
       "  18056    1999-01-01\n",
       "  18057    2000-01-01\n",
       "  18058    2001-01-01\n",
       "  18059    2002-01-01\n",
       "  18060    2003-01-01\n",
       "  18061    2004-01-01\n",
       "  18062    2005-01-01\n",
       "  18063    2006-01-01\n",
       "  18064    2007-01-01\n",
       "  18065    2008-01-01\n",
       "  18066    2009-01-01\n",
       "  18067    2010-01-01\n",
       "  18068    2011-01-01\n",
       "  18069    2012-01-01\n",
       "  18070    2013-01-01\n",
       "  18071    2014-01-01\n",
       "  18072    2015-01-01\n",
       "  18073    2016-01-01\n",
       "  18074    2017-01-01\n",
       "  18075    2018-01-01\n",
       "  18076    2019-01-01\n",
       "  18077    2020-01-01\n",
       "  18078    2021-01-01\n",
       "  Name: date, dtype: object,\n",
       "  'y': 18038     12.49\n",
       "  18039     11.11\n",
       "  18040     19.99\n",
       "  18041     22.21\n",
       "  18042     54.53\n",
       "  18043     55.82\n",
       "  18044     47.05\n",
       "  18045     51.00\n",
       "  18046    123.41\n",
       "  18047    107.11\n",
       "  18048     93.21\n",
       "  18049    169.05\n",
       "  18050    188.05\n",
       "  18051     53.61\n",
       "  18052     34.20\n",
       "  18053     43.09\n",
       "  18054     24.40\n",
       "  18055     24.46\n",
       "  18056     26.79\n",
       "  18057     26.10\n",
       "  18058     21.70\n",
       "  18059     22.20\n",
       "  18060     21.51\n",
       "  18061     17.57\n",
       "  18062     18.34\n",
       "  18063      9.02\n",
       "  18064     10.66\n",
       "  18065     12.45\n",
       "  18066     13.40\n",
       "  18067      8.50\n",
       "  18068      8.66\n",
       "  18069      6.60\n",
       "  18070      6.98\n",
       "  18071      7.80\n",
       "  18072     10.11\n",
       "  18073     17.87\n",
       "  18074      6.58\n",
       "  18075      7.48\n",
       "  18076      9.24\n",
       "  18077      9.04\n",
       "  18078      9.20\n",
       "  Name: value, dtype: float64,\n",
       "  'name': 'Zambia'},\n",
       " {'type': 'scatter',\n",
       "  'mode': 'lines',\n",
       "  'x': 60169    1981-01-01\n",
       "  60170    1982-01-01\n",
       "  60171    1983-01-01\n",
       "  60172    1984-01-01\n",
       "  60173    1985-01-01\n",
       "  60174    1986-01-01\n",
       "  60175    1987-01-01\n",
       "  60176    1988-01-01\n",
       "  60177    1989-01-01\n",
       "  60178    1990-01-01\n",
       "  60179    1991-01-01\n",
       "  60180    1992-01-01\n",
       "  60181    1993-01-01\n",
       "  60182    1994-01-01\n",
       "  60183    1995-01-01\n",
       "  60184    1996-01-01\n",
       "  60185    1997-01-01\n",
       "  60186    1998-01-01\n",
       "  60187    1999-01-01\n",
       "  60188    2000-01-01\n",
       "  60189    2001-01-01\n",
       "  60190    2002-01-01\n",
       "  60191    2003-01-01\n",
       "  60192    2004-01-01\n",
       "  60193    2005-01-01\n",
       "  60194    2006-01-01\n",
       "  60195    2007-01-01\n",
       "  60196    2008-01-01\n",
       "  60197    2009-01-01\n",
       "  60198    2010-01-01\n",
       "  60199    2011-01-01\n",
       "  60200    2012-01-01\n",
       "  60201    2013-01-01\n",
       "  60202    2014-01-01\n",
       "  60203    2015-01-01\n",
       "  60204    2016-01-01\n",
       "  60205    2017-01-01\n",
       "  60206    2018-01-01\n",
       "  60207    2019-01-01\n",
       "  60208    2020-01-01\n",
       "  60209    2021-01-01\n",
       "  Name: date, dtype: object,\n",
       "  'y': 60169    25.65\n",
       "  60170    28.93\n",
       "  60171    27.06\n",
       "  60172    36.15\n",
       "  60173    33.28\n",
       "  60174    32.43\n",
       "  60175    29.95\n",
       "  60176    31.19\n",
       "  60177    25.85\n",
       "  60178    33.95\n",
       "  60179    28.70\n",
       "  60180    21.85\n",
       "  60181    25.28\n",
       "  60182    33.09\n",
       "  60183    28.38\n",
       "  60184    20.98\n",
       "  60185    16.10\n",
       "  60186    12.90\n",
       "  60187     7.70\n",
       "  60188     6.00\n",
       "  60189     5.10\n",
       "  60190     4.30\n",
       "  60191     5.30\n",
       "  60192     3.58\n",
       "  60193     5.03\n",
       "  60194     7.25\n",
       "  60195     7.03\n",
       "  60196    10.28\n",
       "  60197    12.14\n",
       "  60198     8.25\n",
       "  60199    12.69\n",
       "  60200    16.00\n",
       "  60201     7.87\n",
       "  60202     6.13\n",
       "  60203     5.59\n",
       "  60204     5.17\n",
       "  60205     5.32\n",
       "  60206     3.60\n",
       "  60207     3.31\n",
       "  60208     3.29\n",
       "  60209     3.39\n",
       "  Name: value, dtype: float64,\n",
       "  'name': 'Tanzania'},\n",
       " {'type': 'scatter',\n",
       "  'mode': 'lines',\n",
       "  'x': 69410    1981-01-01\n",
       "  69411    1982-01-01\n",
       "  69412    1983-01-01\n",
       "  69413    1984-01-01\n",
       "  69414    1985-01-01\n",
       "  69415    1986-01-01\n",
       "  69416    1987-01-01\n",
       "  69417    1988-01-01\n",
       "  69418    1989-01-01\n",
       "  69419    1990-01-01\n",
       "  69420    1991-01-01\n",
       "  69421    1992-01-01\n",
       "  69422    1993-01-01\n",
       "  69423    1994-01-01\n",
       "  69424    1995-01-01\n",
       "  69425    1996-01-01\n",
       "  69426    1997-01-01\n",
       "  69427    1998-01-01\n",
       "  69428    1999-01-01\n",
       "  69429    2000-01-01\n",
       "  69430    2001-01-01\n",
       "  69431    2002-01-01\n",
       "  69432    2003-01-01\n",
       "  69433    2004-01-01\n",
       "  69434    2005-01-01\n",
       "  69435    2006-01-01\n",
       "  69436    2007-01-01\n",
       "  69437    2008-01-01\n",
       "  69438    2009-01-01\n",
       "  69439    2010-01-01\n",
       "  69440    2011-01-01\n",
       "  69441    2012-01-01\n",
       "  69442    2013-01-01\n",
       "  69443    2014-01-01\n",
       "  69444    2015-01-01\n",
       "  69445    2016-01-01\n",
       "  69446    2017-01-01\n",
       "  69447    2018-01-01\n",
       "  69448    2019-01-01\n",
       "  69449    2020-01-01\n",
       "  69450    2021-01-01\n",
       "  Name: date, dtype: object,\n",
       "  'y': 69410      4.23\n",
       "  69411     17.73\n",
       "  69412     28.31\n",
       "  69413     29.99\n",
       "  69414     30.79\n",
       "  69415     40.52\n",
       "  69416    164.06\n",
       "  69417     58.50\n",
       "  69418     42.07\n",
       "  69419     43.72\n",
       "  69420     33.26\n",
       "  69421     45.07\n",
       "  69422     42.26\n",
       "  69423     63.12\n",
       "  69424     54.43\n",
       "  69425     44.61\n",
       "  69426      6.38\n",
       "  69427      0.60\n",
       "  69428      2.86\n",
       "  69429     12.72\n",
       "  69430      9.06\n",
       "  69431     16.77\n",
       "  69432     13.46\n",
       "  69433     12.63\n",
       "  69434      6.43\n",
       "  69435     13.25\n",
       "  69436      8.16\n",
       "  69437     10.33\n",
       "  69438      3.25\n",
       "  69439     12.70\n",
       "  69440     10.35\n",
       "  69441      2.09\n",
       "  69442      4.21\n",
       "  69443      2.29\n",
       "  69444      2.39\n",
       "  69445     19.24\n",
       "  69446     15.11\n",
       "  69447      3.91\n",
       "  69448      3.45\n",
       "  69449      5.39\n",
       "  69450      5.07\n",
       "  Name: value, dtype: float64,\n",
       "  'name': 'Mozambique'},\n",
       " {'type': 'scatter',\n",
       "  'mode': 'lines',\n",
       "  'x': 20553    1981-01-01\n",
       "  20554    1982-01-01\n",
       "  20555    1983-01-01\n",
       "  20556    1984-01-01\n",
       "  20557    1985-01-01\n",
       "  20558    1986-01-01\n",
       "  20559    1987-01-01\n",
       "  20560    1988-01-01\n",
       "  20561    1989-01-01\n",
       "  20562    1990-01-01\n",
       "  20563    1991-01-01\n",
       "  20564    1992-01-01\n",
       "  20565    1993-01-01\n",
       "  20566    1994-01-01\n",
       "  20567    1995-01-01\n",
       "  20568    1996-01-01\n",
       "  20569    1997-01-01\n",
       "  20570    1998-01-01\n",
       "  20571    1999-01-01\n",
       "  20572    2000-01-01\n",
       "  20573    2001-01-01\n",
       "  20574    2002-01-01\n",
       "  20575    2003-01-01\n",
       "  20576    2004-01-01\n",
       "  20577    2005-01-01\n",
       "  20578    2006-01-01\n",
       "  20579    2007-01-01\n",
       "  20580    2008-01-01\n",
       "  20581    2009-01-01\n",
       "  20582    2010-01-01\n",
       "  20583    2011-01-01\n",
       "  20584    2012-01-01\n",
       "  20585    2013-01-01\n",
       "  20586    2014-01-01\n",
       "  20587    2015-01-01\n",
       "  20588    2016-01-01\n",
       "  20589    2017-01-01\n",
       "  20590    2018-01-01\n",
       "  20591    2019-01-01\n",
       "  20592    2020-01-01\n",
       "  20593    2021-01-01\n",
       "  Name: date, dtype: object,\n",
       "  'y': 20553     13.15\n",
       "  20554     10.63\n",
       "  20555     23.12\n",
       "  20556     20.15\n",
       "  20557      8.49\n",
       "  20558     14.33\n",
       "  20559     12.47\n",
       "  20560      7.42\n",
       "  20561     12.88\n",
       "  20562     18.24\n",
       "  20563     23.34\n",
       "  20564     42.06\n",
       "  20565     27.59\n",
       "  20566     22.26\n",
       "  20567     22.59\n",
       "  20568     21.51\n",
       "  20569     18.80\n",
       "  20570     31.33\n",
       "  20571     57.75\n",
       "  20572     55.87\n",
       "  20573    -37.20\n",
       "  20574    -34.44\n",
       "  20575     -8.56\n",
       "  20576    165.65\n",
       "  20577      1.98\n",
       "  20578      4.25\n",
       "  20579     -4.10\n",
       "  20580      7.31\n",
       "  20581      6.22\n",
       "  20582      3.03\n",
       "  20583      3.47\n",
       "  20584      3.72\n",
       "  20585      1.63\n",
       "  20586     -0.21\n",
       "  20587     -2.41\n",
       "  20588     -1.56\n",
       "  20589      0.91\n",
       "  20590     10.50\n",
       "  20591    200.37\n",
       "  20592     76.73\n",
       "  20593      9.44\n",
       "  Name: value, dtype: float64,\n",
       "  'name': 'Zimbabwe'}]"
      ]
     },
     "execution_count": 63,
     "metadata": {},
     "output_type": "execute_result"
    }
   ],
   "source": [
    "traces"
   ]
  },
  {
   "cell_type": "code",
   "execution_count": null,
   "metadata": {},
   "outputs": [],
   "source": []
  },
  {
   "cell_type": "code",
   "execution_count": null,
   "metadata": {},
   "outputs": [],
   "source": []
  },
  {
   "cell_type": "code",
   "execution_count": null,
   "metadata": {},
   "outputs": [],
   "source": []
  },
  {
   "cell_type": "code",
   "execution_count": null,
   "metadata": {},
   "outputs": [],
   "source": []
  },
  {
   "cell_type": "code",
   "execution_count": null,
   "metadata": {},
   "outputs": [],
   "source": []
  },
  {
   "cell_type": "code",
   "execution_count": null,
   "metadata": {},
   "outputs": [],
   "source": []
  },
  {
   "cell_type": "code",
   "execution_count": null,
   "metadata": {},
   "outputs": [],
   "source": []
  },
  {
   "cell_type": "code",
   "execution_count": null,
   "metadata": {},
   "outputs": [],
   "source": []
  },
  {
   "cell_type": "code",
   "execution_count": null,
   "metadata": {},
   "outputs": [],
   "source": []
  },
  {
   "cell_type": "code",
   "execution_count": null,
   "metadata": {},
   "outputs": [],
   "source": []
  },
  {
   "cell_type": "code",
   "execution_count": null,
   "metadata": {},
   "outputs": [],
   "source": []
  },
  {
   "cell_type": "code",
   "execution_count": null,
   "metadata": {},
   "outputs": [],
   "source": []
  },
  {
   "cell_type": "code",
   "execution_count": null,
   "metadata": {},
   "outputs": [],
   "source": []
  },
  {
   "cell_type": "code",
   "execution_count": null,
   "metadata": {},
   "outputs": [],
   "source": []
  },
  {
   "cell_type": "code",
   "execution_count": null,
   "metadata": {},
   "outputs": [],
   "source": []
  },
  {
   "cell_type": "code",
   "execution_count": null,
   "metadata": {},
   "outputs": [],
   "source": []
  },
  {
   "cell_type": "code",
   "execution_count": null,
   "metadata": {},
   "outputs": [],
   "source": []
  },
  {
   "cell_type": "code",
   "execution_count": null,
   "metadata": {},
   "outputs": [],
   "source": []
  },
  {
   "cell_type": "code",
   "execution_count": null,
   "metadata": {},
   "outputs": [],
   "source": []
  },
  {
   "cell_type": "code",
   "execution_count": null,
   "metadata": {},
   "outputs": [],
   "source": []
  },
  {
   "cell_type": "code",
   "execution_count": null,
   "metadata": {},
   "outputs": [],
   "source": []
  }
 ],
 "metadata": {
  "kernelspec": {
   "display_name": "Python 3",
   "language": "python",
   "name": "python3"
  },
  "language_info": {
   "codemirror_mode": {
    "name": "ipython",
    "version": 3
   },
   "file_extension": ".py",
   "mimetype": "text/x-python",
   "name": "python",
   "nbconvert_exporter": "python",
   "pygments_lexer": "ipython3",
   "version": "3.6.10"
  }
 },
 "nbformat": 4,
 "nbformat_minor": 4
}
